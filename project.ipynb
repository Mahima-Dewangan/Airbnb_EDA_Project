{
 "cells": [
  {
   "cell_type": "markdown",
   "id": "9e72a19c",
   "metadata": {},
   "source": [
    "# **Python Project EDA and Data VIz. - AirBnB (New York)**\n",
    "\n",
    "\n"
   ]
  },
  {
   "cell_type": "markdown",
   "id": "3471d102",
   "metadata": {},
   "source": [
    "steps to complete the project\n",
    "\n",
    " 1. Importing all dependencies\n",
    " 2. Loadiing Dataset\n",
    " 3. Initial exploration\n",
    " 4. Data Cleaning\n",
    " 5. Data Analysis\n"
   ]
  },
  {
   "cell_type": "markdown",
   "id": "f27ea986",
   "metadata": {},
   "source": [
    "### **Task 1 Importing all Dependencies**"
   ]
  },
  {
   "cell_type": "code",
   "execution_count": 2,
   "id": "033a1ce4",
   "metadata": {},
   "outputs": [],
   "source": [
    "import pandas as pd\n",
    "import numpy as np\n",
    "import matplotlib.pyplot as plt\n",
    "import seaborn as sns\n",
    "\n",
    "%matplotlib inline"
   ]
  },
  {
   "cell_type": "markdown",
   "id": "7dd2b2f1",
   "metadata": {},
   "source": [
    "### **Task 2 Loading Datasets**"
   ]
  },
  {
   "cell_type": "code",
   "execution_count": 3,
   "id": "45b45c7a",
   "metadata": {},
   "outputs": [],
   "source": [
    "data = pd.read_csv('datasets.csv', encoding_errors='ignore')"
   ]
  },
  {
   "cell_type": "markdown",
   "id": "6bd479b4",
   "metadata": {},
   "source": [
    "###  **Task 3 Initial Exploration**"
   ]
  },
  {
   "cell_type": "code",
   "execution_count": 4,
   "id": "e9eaec57",
   "metadata": {},
   "outputs": [
    {
     "data": {
      "text/html": [
       "<div>\n",
       "<style scoped>\n",
       "    .dataframe tbody tr th:only-of-type {\n",
       "        vertical-align: middle;\n",
       "    }\n",
       "\n",
       "    .dataframe tbody tr th {\n",
       "        vertical-align: top;\n",
       "    }\n",
       "\n",
       "    .dataframe thead th {\n",
       "        text-align: right;\n",
       "    }\n",
       "</style>\n",
       "<table border=\"1\" class=\"dataframe\">\n",
       "  <thead>\n",
       "    <tr style=\"text-align: right;\">\n",
       "      <th></th>\n",
       "      <th>id</th>\n",
       "      <th>name</th>\n",
       "      <th>host_id</th>\n",
       "      <th>host_name</th>\n",
       "      <th>neighbourhood_group</th>\n",
       "      <th>neighbourhood</th>\n",
       "      <th>latitude</th>\n",
       "      <th>longitude</th>\n",
       "      <th>room_type</th>\n",
       "      <th>price</th>\n",
       "      <th>...</th>\n",
       "      <th>last_review</th>\n",
       "      <th>reviews_per_month</th>\n",
       "      <th>calculated_host_listings_count</th>\n",
       "      <th>availability_365</th>\n",
       "      <th>number_of_reviews_ltm</th>\n",
       "      <th>license</th>\n",
       "      <th>rating</th>\n",
       "      <th>bedrooms</th>\n",
       "      <th>beds</th>\n",
       "      <th>baths</th>\n",
       "    </tr>\n",
       "  </thead>\n",
       "  <tbody>\n",
       "    <tr>\n",
       "      <th>0</th>\n",
       "      <td>1.312228e+06</td>\n",
       "      <td>Rental unit in Brooklyn · ★5.0 · 1 bedroom</td>\n",
       "      <td>7130382</td>\n",
       "      <td>Walter</td>\n",
       "      <td>Brooklyn</td>\n",
       "      <td>Clinton Hill</td>\n",
       "      <td>40.683710</td>\n",
       "      <td>-73.964610</td>\n",
       "      <td>Private room</td>\n",
       "      <td>55.0</td>\n",
       "      <td>...</td>\n",
       "      <td>20/12/15</td>\n",
       "      <td>0.03</td>\n",
       "      <td>1.0</td>\n",
       "      <td>0.0</td>\n",
       "      <td>0.0</td>\n",
       "      <td>No License</td>\n",
       "      <td>5</td>\n",
       "      <td>1</td>\n",
       "      <td>1</td>\n",
       "      <td>Not specified</td>\n",
       "    </tr>\n",
       "    <tr>\n",
       "      <th>1</th>\n",
       "      <td>4.527754e+07</td>\n",
       "      <td>Rental unit in New York · ★4.67 · 2 bedrooms ·...</td>\n",
       "      <td>51501835</td>\n",
       "      <td>Jeniffer</td>\n",
       "      <td>Manhattan</td>\n",
       "      <td>Hell's Kitchen</td>\n",
       "      <td>40.766610</td>\n",
       "      <td>-73.988100</td>\n",
       "      <td>Entire home/apt</td>\n",
       "      <td>144.0</td>\n",
       "      <td>...</td>\n",
       "      <td>01/05/23</td>\n",
       "      <td>0.24</td>\n",
       "      <td>139.0</td>\n",
       "      <td>364.0</td>\n",
       "      <td>2.0</td>\n",
       "      <td>No License</td>\n",
       "      <td>4.67</td>\n",
       "      <td>2</td>\n",
       "      <td>1</td>\n",
       "      <td>1</td>\n",
       "    </tr>\n",
       "    <tr>\n",
       "      <th>2</th>\n",
       "      <td>9.710000e+17</td>\n",
       "      <td>Rental unit in New York · ★4.17 · 1 bedroom · ...</td>\n",
       "      <td>528871354</td>\n",
       "      <td>Joshua</td>\n",
       "      <td>Manhattan</td>\n",
       "      <td>Chelsea</td>\n",
       "      <td>40.750764</td>\n",
       "      <td>-73.994605</td>\n",
       "      <td>Entire home/apt</td>\n",
       "      <td>187.0</td>\n",
       "      <td>...</td>\n",
       "      <td>18/12/23</td>\n",
       "      <td>1.67</td>\n",
       "      <td>1.0</td>\n",
       "      <td>343.0</td>\n",
       "      <td>6.0</td>\n",
       "      <td>Exempt</td>\n",
       "      <td>4.17</td>\n",
       "      <td>1</td>\n",
       "      <td>2</td>\n",
       "      <td>1</td>\n",
       "    </tr>\n",
       "    <tr>\n",
       "      <th>3</th>\n",
       "      <td>3.857863e+06</td>\n",
       "      <td>Rental unit in New York · ★4.64 · 1 bedroom · ...</td>\n",
       "      <td>19902271</td>\n",
       "      <td>John And Catherine</td>\n",
       "      <td>Manhattan</td>\n",
       "      <td>Washington Heights</td>\n",
       "      <td>40.835600</td>\n",
       "      <td>-73.942500</td>\n",
       "      <td>Private room</td>\n",
       "      <td>120.0</td>\n",
       "      <td>...</td>\n",
       "      <td>17/09/23</td>\n",
       "      <td>1.38</td>\n",
       "      <td>2.0</td>\n",
       "      <td>363.0</td>\n",
       "      <td>12.0</td>\n",
       "      <td>No License</td>\n",
       "      <td>4.64</td>\n",
       "      <td>1</td>\n",
       "      <td>1</td>\n",
       "      <td>1</td>\n",
       "    </tr>\n",
       "    <tr>\n",
       "      <th>4</th>\n",
       "      <td>4.089661e+07</td>\n",
       "      <td>Condo in New York · ★4.91 · Studio · 1 bed · 1...</td>\n",
       "      <td>61391963</td>\n",
       "      <td>Stay With Vibe</td>\n",
       "      <td>Manhattan</td>\n",
       "      <td>Murray Hill</td>\n",
       "      <td>40.751120</td>\n",
       "      <td>-73.978600</td>\n",
       "      <td>Entire home/apt</td>\n",
       "      <td>85.0</td>\n",
       "      <td>...</td>\n",
       "      <td>03/12/23</td>\n",
       "      <td>0.24</td>\n",
       "      <td>133.0</td>\n",
       "      <td>335.0</td>\n",
       "      <td>3.0</td>\n",
       "      <td>No License</td>\n",
       "      <td>4.91</td>\n",
       "      <td>Studio</td>\n",
       "      <td>1</td>\n",
       "      <td>1</td>\n",
       "    </tr>\n",
       "  </tbody>\n",
       "</table>\n",
       "<p>5 rows × 22 columns</p>\n",
       "</div>"
      ],
      "text/plain": [
       "             id                                               name    host_id  \\\n",
       "0  1.312228e+06         Rental unit in Brooklyn · ★5.0 · 1 bedroom    7130382   \n",
       "1  4.527754e+07  Rental unit in New York · ★4.67 · 2 bedrooms ·...   51501835   \n",
       "2  9.710000e+17  Rental unit in New York · ★4.17 · 1 bedroom · ...  528871354   \n",
       "3  3.857863e+06  Rental unit in New York · ★4.64 · 1 bedroom · ...   19902271   \n",
       "4  4.089661e+07  Condo in New York · ★4.91 · Studio · 1 bed · 1...   61391963   \n",
       "\n",
       "            host_name neighbourhood_group       neighbourhood   latitude  \\\n",
       "0              Walter            Brooklyn        Clinton Hill  40.683710   \n",
       "1            Jeniffer           Manhattan      Hell's Kitchen  40.766610   \n",
       "2              Joshua           Manhattan             Chelsea  40.750764   \n",
       "3  John And Catherine           Manhattan  Washington Heights  40.835600   \n",
       "4      Stay With Vibe           Manhattan         Murray Hill  40.751120   \n",
       "\n",
       "   longitude        room_type  price  ...  last_review  reviews_per_month  \\\n",
       "0 -73.964610     Private room   55.0  ...     20/12/15               0.03   \n",
       "1 -73.988100  Entire home/apt  144.0  ...     01/05/23               0.24   \n",
       "2 -73.994605  Entire home/apt  187.0  ...     18/12/23               1.67   \n",
       "3 -73.942500     Private room  120.0  ...     17/09/23               1.38   \n",
       "4 -73.978600  Entire home/apt   85.0  ...     03/12/23               0.24   \n",
       "\n",
       "  calculated_host_listings_count  availability_365  number_of_reviews_ltm  \\\n",
       "0                            1.0               0.0                    0.0   \n",
       "1                          139.0             364.0                    2.0   \n",
       "2                            1.0             343.0                    6.0   \n",
       "3                            2.0             363.0                   12.0   \n",
       "4                          133.0             335.0                    3.0   \n",
       "\n",
       "      license  rating bedrooms beds          baths  \n",
       "0  No License       5        1    1  Not specified  \n",
       "1  No License    4.67        2    1              1  \n",
       "2      Exempt    4.17        1    2              1  \n",
       "3  No License    4.64        1    1              1  \n",
       "4  No License    4.91   Studio    1              1  \n",
       "\n",
       "[5 rows x 22 columns]"
      ]
     },
     "execution_count": 4,
     "metadata": {},
     "output_type": "execute_result"
    }
   ],
   "source": [
    "data.head()"
   ]
  },
  {
   "cell_type": "code",
   "execution_count": 7,
   "id": "74422b22",
   "metadata": {},
   "outputs": [
    {
     "data": {
      "text/html": [
       "<div>\n",
       "<style scoped>\n",
       "    .dataframe tbody tr th:only-of-type {\n",
       "        vertical-align: middle;\n",
       "    }\n",
       "\n",
       "    .dataframe tbody tr th {\n",
       "        vertical-align: top;\n",
       "    }\n",
       "\n",
       "    .dataframe thead th {\n",
       "        text-align: right;\n",
       "    }\n",
       "</style>\n",
       "<table border=\"1\" class=\"dataframe\">\n",
       "  <thead>\n",
       "    <tr style=\"text-align: right;\">\n",
       "      <th></th>\n",
       "      <th>id</th>\n",
       "      <th>name</th>\n",
       "      <th>host_id</th>\n",
       "      <th>host_name</th>\n",
       "      <th>neighbourhood_group</th>\n",
       "      <th>neighbourhood</th>\n",
       "      <th>latitude</th>\n",
       "      <th>longitude</th>\n",
       "      <th>room_type</th>\n",
       "      <th>price</th>\n",
       "      <th>...</th>\n",
       "      <th>last_review</th>\n",
       "      <th>reviews_per_month</th>\n",
       "      <th>calculated_host_listings_count</th>\n",
       "      <th>availability_365</th>\n",
       "      <th>number_of_reviews_ltm</th>\n",
       "      <th>license</th>\n",
       "      <th>rating</th>\n",
       "      <th>bedrooms</th>\n",
       "      <th>beds</th>\n",
       "      <th>baths</th>\n",
       "    </tr>\n",
       "  </thead>\n",
       "  <tbody>\n",
       "    <tr>\n",
       "      <th>20765</th>\n",
       "      <td>2.473690e+07</td>\n",
       "      <td>Rental unit in New York · ★4.75 · 1 bedroom · ...</td>\n",
       "      <td>186680487</td>\n",
       "      <td>Henry D</td>\n",
       "      <td>Manhattan</td>\n",
       "      <td>Lower East Side</td>\n",
       "      <td>40.711380</td>\n",
       "      <td>-73.991560</td>\n",
       "      <td>Private room</td>\n",
       "      <td>45.0</td>\n",
       "      <td>...</td>\n",
       "      <td>29/09/23</td>\n",
       "      <td>1.81</td>\n",
       "      <td>1.0</td>\n",
       "      <td>157.0</td>\n",
       "      <td>12.0</td>\n",
       "      <td>No License</td>\n",
       "      <td>4.75</td>\n",
       "      <td>1</td>\n",
       "      <td>1</td>\n",
       "      <td>1</td>\n",
       "    </tr>\n",
       "    <tr>\n",
       "      <th>20766</th>\n",
       "      <td>2.835711e+06</td>\n",
       "      <td>Rental unit in New York · ★4.46 · 1 bedroom · ...</td>\n",
       "      <td>3237504</td>\n",
       "      <td>Aspen</td>\n",
       "      <td>Manhattan</td>\n",
       "      <td>Greenwich Village</td>\n",
       "      <td>40.730580</td>\n",
       "      <td>-74.000700</td>\n",
       "      <td>Entire home/apt</td>\n",
       "      <td>105.0</td>\n",
       "      <td>...</td>\n",
       "      <td>01/07/23</td>\n",
       "      <td>0.48</td>\n",
       "      <td>1.0</td>\n",
       "      <td>0.0</td>\n",
       "      <td>1.0</td>\n",
       "      <td>No License</td>\n",
       "      <td>4.46</td>\n",
       "      <td>1</td>\n",
       "      <td>2</td>\n",
       "      <td>1</td>\n",
       "    </tr>\n",
       "    <tr>\n",
       "      <th>20767</th>\n",
       "      <td>5.182527e+07</td>\n",
       "      <td>Rental unit in New York · ★4.93 · 1 bedroom · ...</td>\n",
       "      <td>304317395</td>\n",
       "      <td>Jeff</td>\n",
       "      <td>Manhattan</td>\n",
       "      <td>Hell's Kitchen</td>\n",
       "      <td>40.757350</td>\n",
       "      <td>-73.993430</td>\n",
       "      <td>Entire home/apt</td>\n",
       "      <td>299.0</td>\n",
       "      <td>...</td>\n",
       "      <td>08/12/23</td>\n",
       "      <td>2.09</td>\n",
       "      <td>1.0</td>\n",
       "      <td>0.0</td>\n",
       "      <td>27.0</td>\n",
       "      <td>No License</td>\n",
       "      <td>4.93</td>\n",
       "      <td>1</td>\n",
       "      <td>1</td>\n",
       "      <td>1</td>\n",
       "    </tr>\n",
       "    <tr>\n",
       "      <th>20768</th>\n",
       "      <td>7.830000e+17</td>\n",
       "      <td>Rental unit in New York · ★5.0 · 1 bedroom · 1...</td>\n",
       "      <td>163083101</td>\n",
       "      <td>Marissa</td>\n",
       "      <td>Manhattan</td>\n",
       "      <td>Chinatown</td>\n",
       "      <td>40.713750</td>\n",
       "      <td>-73.991470</td>\n",
       "      <td>Entire home/apt</td>\n",
       "      <td>115.0</td>\n",
       "      <td>...</td>\n",
       "      <td>17/09/23</td>\n",
       "      <td>0.91</td>\n",
       "      <td>1.0</td>\n",
       "      <td>363.0</td>\n",
       "      <td>7.0</td>\n",
       "      <td>No License</td>\n",
       "      <td>5</td>\n",
       "      <td>1</td>\n",
       "      <td>1</td>\n",
       "      <td>1</td>\n",
       "    </tr>\n",
       "    <tr>\n",
       "      <th>20769</th>\n",
       "      <td>5.660000e+17</td>\n",
       "      <td>Rental unit in Queens · ★4.89 · 1 bedroom · 1 ...</td>\n",
       "      <td>93827372</td>\n",
       "      <td>Glenroy</td>\n",
       "      <td>Queens</td>\n",
       "      <td>Rosedale</td>\n",
       "      <td>40.658874</td>\n",
       "      <td>-73.728651</td>\n",
       "      <td>Private room</td>\n",
       "      <td>102.0</td>\n",
       "      <td>...</td>\n",
       "      <td>10/12/23</td>\n",
       "      <td>4.50</td>\n",
       "      <td>1.0</td>\n",
       "      <td>0.0</td>\n",
       "      <td>62.0</td>\n",
       "      <td>OSE-STRREG-0000513</td>\n",
       "      <td>4.89</td>\n",
       "      <td>1</td>\n",
       "      <td>1</td>\n",
       "      <td>1</td>\n",
       "    </tr>\n",
       "  </tbody>\n",
       "</table>\n",
       "<p>5 rows × 22 columns</p>\n",
       "</div>"
      ],
      "text/plain": [
       "                 id                                               name  \\\n",
       "20765  2.473690e+07  Rental unit in New York · ★4.75 · 1 bedroom · ...   \n",
       "20766  2.835711e+06  Rental unit in New York · ★4.46 · 1 bedroom · ...   \n",
       "20767  5.182527e+07  Rental unit in New York · ★4.93 · 1 bedroom · ...   \n",
       "20768  7.830000e+17  Rental unit in New York · ★5.0 · 1 bedroom · 1...   \n",
       "20769  5.660000e+17  Rental unit in Queens · ★4.89 · 1 bedroom · 1 ...   \n",
       "\n",
       "         host_id host_name neighbourhood_group      neighbourhood   latitude  \\\n",
       "20765  186680487   Henry D           Manhattan    Lower East Side  40.711380   \n",
       "20766    3237504     Aspen           Manhattan  Greenwich Village  40.730580   \n",
       "20767  304317395      Jeff           Manhattan     Hell's Kitchen  40.757350   \n",
       "20768  163083101   Marissa           Manhattan          Chinatown  40.713750   \n",
       "20769   93827372   Glenroy              Queens           Rosedale  40.658874   \n",
       "\n",
       "       longitude        room_type  price  ...  last_review  reviews_per_month  \\\n",
       "20765 -73.991560     Private room   45.0  ...     29/09/23               1.81   \n",
       "20766 -74.000700  Entire home/apt  105.0  ...     01/07/23               0.48   \n",
       "20767 -73.993430  Entire home/apt  299.0  ...     08/12/23               2.09   \n",
       "20768 -73.991470  Entire home/apt  115.0  ...     17/09/23               0.91   \n",
       "20769 -73.728651     Private room  102.0  ...     10/12/23               4.50   \n",
       "\n",
       "      calculated_host_listings_count  availability_365  number_of_reviews_ltm  \\\n",
       "20765                            1.0             157.0                   12.0   \n",
       "20766                            1.0               0.0                    1.0   \n",
       "20767                            1.0               0.0                   27.0   \n",
       "20768                            1.0             363.0                    7.0   \n",
       "20769                            1.0               0.0                   62.0   \n",
       "\n",
       "                  license  rating bedrooms beds baths  \n",
       "20765          No License    4.75        1    1     1  \n",
       "20766          No License    4.46        1    2     1  \n",
       "20767          No License    4.93        1    1     1  \n",
       "20768          No License       5        1    1     1  \n",
       "20769  OSE-STRREG-0000513    4.89        1    1     1  \n",
       "\n",
       "[5 rows x 22 columns]"
      ]
     },
     "execution_count": 7,
     "metadata": {},
     "output_type": "execute_result"
    }
   ],
   "source": [
    "data.tail()"
   ]
  },
  {
   "cell_type": "markdown",
   "id": "26b6438e",
   "metadata": {},
   "source": []
  },
  {
   "cell_type": "code",
   "execution_count": 5,
   "id": "76c5ffa3",
   "metadata": {},
   "outputs": [
    {
     "data": {
      "text/plain": [
       "(20770, 22)"
      ]
     },
     "execution_count": 5,
     "metadata": {},
     "output_type": "execute_result"
    }
   ],
   "source": [
    "data.shape"
   ]
  },
  {
   "cell_type": "code",
   "execution_count": 9,
   "id": "33df525c",
   "metadata": {},
   "outputs": [
    {
     "name": "stdout",
     "output_type": "stream",
     "text": [
      "<class 'pandas.core.frame.DataFrame'>\n",
      "RangeIndex: 20770 entries, 0 to 20769\n",
      "Data columns (total 22 columns):\n",
      " #   Column                          Non-Null Count  Dtype  \n",
      "---  ------                          --------------  -----  \n",
      " 0   id                              20770 non-null  float64\n",
      " 1   name                            20770 non-null  object \n",
      " 2   host_id                         20770 non-null  int64  \n",
      " 3   host_name                       20770 non-null  object \n",
      " 4   neighbourhood_group             20770 non-null  object \n",
      " 5   neighbourhood                   20763 non-null  object \n",
      " 6   latitude                        20763 non-null  float64\n",
      " 7   longitude                       20763 non-null  float64\n",
      " 8   room_type                       20763 non-null  object \n",
      " 9   price                           20736 non-null  float64\n",
      " 10  minimum_nights                  20763 non-null  float64\n",
      " 11  number_of_reviews               20763 non-null  float64\n",
      " 12  last_review                     20763 non-null  object \n",
      " 13  reviews_per_month               20763 non-null  float64\n",
      " 14  calculated_host_listings_count  20763 non-null  float64\n",
      " 15  availability_365                20763 non-null  float64\n",
      " 16  number_of_reviews_ltm           20763 non-null  float64\n",
      " 17  license                         20770 non-null  object \n",
      " 18  rating                          20770 non-null  object \n",
      " 19  bedrooms                        20770 non-null  object \n",
      " 20  beds                            20770 non-null  int64  \n",
      " 21  baths                           20770 non-null  object \n",
      "dtypes: float64(10), int64(2), object(10)\n",
      "memory usage: 3.5+ MB\n"
     ]
    }
   ],
   "source": [
    "data.info()"
   ]
  },
  {
   "cell_type": "code",
   "execution_count": 6,
   "id": "cda4344a",
   "metadata": {},
   "outputs": [
    {
     "name": "stdout",
     "output_type": "stream",
     "text": [
      "<class 'pandas.core.frame.DataFrame'>\n",
      "RangeIndex: 20770 entries, 0 to 20769\n",
      "Data columns (total 22 columns):\n",
      " #   Column                          Non-Null Count  Dtype  \n",
      "---  ------                          --------------  -----  \n",
      " 0   id                              20770 non-null  float64\n",
      " 1   name                            20770 non-null  object \n",
      " 2   host_id                         20770 non-null  int64  \n",
      " 3   host_name                       20770 non-null  object \n",
      " 4   neighbourhood_group             20770 non-null  object \n",
      " 5   neighbourhood                   20763 non-null  object \n",
      " 6   latitude                        20763 non-null  float64\n",
      " 7   longitude                       20763 non-null  float64\n",
      " 8   room_type                       20763 non-null  object \n",
      " 9   price                           20736 non-null  float64\n",
      " 10  minimum_nights                  20763 non-null  float64\n",
      " 11  number_of_reviews               20763 non-null  float64\n",
      " 12  last_review                     20763 non-null  object \n",
      " 13  reviews_per_month               20763 non-null  float64\n",
      " 14  calculated_host_listings_count  20763 non-null  float64\n",
      " 15  availability_365                20763 non-null  float64\n",
      " 16  number_of_reviews_ltm           20763 non-null  float64\n",
      " 17  license                         20770 non-null  object \n",
      " 18  rating                          20770 non-null  object \n",
      " 19  bedrooms                        20770 non-null  object \n",
      " 20  beds                            20770 non-null  int64  \n",
      " 21  baths                           20770 non-null  object \n",
      "dtypes: float64(10), int64(2), object(10)\n",
      "memory usage: 3.5+ MB\n"
     ]
    }
   ],
   "source": [
    "#statistical summary\n",
    "data.info()"
   ]
  },
  {
   "cell_type": "markdown",
   "id": "ba80bd9f",
   "metadata": {},
   "source": [
    "### **Task 4 : Data Cleaning**"
   ]
  },
  {
   "cell_type": "code",
   "execution_count": 7,
   "id": "e9d2516a",
   "metadata": {},
   "outputs": [
    {
     "data": {
      "text/plain": [
       "id                                 0\n",
       "name                               0\n",
       "host_id                            0\n",
       "host_name                          0\n",
       "neighbourhood_group                0\n",
       "neighbourhood                      7\n",
       "latitude                           7\n",
       "longitude                          7\n",
       "room_type                          7\n",
       "price                             34\n",
       "minimum_nights                     7\n",
       "number_of_reviews                  7\n",
       "last_review                        7\n",
       "reviews_per_month                  7\n",
       "calculated_host_listings_count     7\n",
       "availability_365                   7\n",
       "number_of_reviews_ltm              7\n",
       "license                            0\n",
       "rating                             0\n",
       "bedrooms                           0\n",
       "beds                               0\n",
       "baths                              0\n",
       "dtype: int64"
      ]
     },
     "execution_count": 7,
     "metadata": {},
     "output_type": "execute_result"
    }
   ],
   "source": [
    "data.isnull().sum()"
   ]
  },
  {
   "cell_type": "code",
   "execution_count": 9,
   "id": "321ae866",
   "metadata": {},
   "outputs": [
    {
     "data": {
      "text/plain": [
       "id                                0\n",
       "name                              0\n",
       "host_id                           0\n",
       "host_name                         0\n",
       "neighbourhood_group               0\n",
       "neighbourhood                     0\n",
       "latitude                          0\n",
       "longitude                         0\n",
       "room_type                         0\n",
       "price                             0\n",
       "minimum_nights                    0\n",
       "number_of_reviews                 0\n",
       "last_review                       0\n",
       "reviews_per_month                 0\n",
       "calculated_host_listings_count    0\n",
       "availability_365                  0\n",
       "number_of_reviews_ltm             0\n",
       "license                           0\n",
       "rating                            0\n",
       "bedrooms                          0\n",
       "beds                              0\n",
       "baths                             0\n",
       "dtype: int64"
      ]
     },
     "execution_count": 9,
     "metadata": {},
     "output_type": "execute_result"
    }
   ],
   "source": [
    "#dropping the entire row with the missing value\n",
    "data.dropna(inplace=True)\n",
    "\n",
    "#checking again \n",
    "data.isnull().sum()"
   ]
  },
  {
   "cell_type": "code",
   "execution_count": 8,
   "id": "6f6837bd",
   "metadata": {},
   "outputs": [
    {
     "data": {
      "text/plain": [
       "(20770, 22)"
      ]
     },
     "execution_count": 8,
     "metadata": {},
     "output_type": "execute_result"
    }
   ],
   "source": [
    "#in order to check the no of rows after removing the null rows\n",
    "data.shape"
   ]
  },
  {
   "cell_type": "code",
   "execution_count": 9,
   "id": "adb4cb5c",
   "metadata": {},
   "outputs": [
    {
     "data": {
      "text/plain": [
       "np.int64(12)"
      ]
     },
     "execution_count": 9,
     "metadata": {},
     "output_type": "execute_result"
    }
   ],
   "source": [
    "#we will check for duplicated records\n",
    "data.duplicated().sum()"
   ]
  },
  {
   "cell_type": "code",
   "execution_count": 14,
   "id": "8c2849a0",
   "metadata": {},
   "outputs": [
    {
     "data": {
      "text/html": [
       "<div>\n",
       "<style scoped>\n",
       "    .dataframe tbody tr th:only-of-type {\n",
       "        vertical-align: middle;\n",
       "    }\n",
       "\n",
       "    .dataframe tbody tr th {\n",
       "        vertical-align: top;\n",
       "    }\n",
       "\n",
       "    .dataframe thead th {\n",
       "        text-align: right;\n",
       "    }\n",
       "</style>\n",
       "<table border=\"1\" class=\"dataframe\">\n",
       "  <thead>\n",
       "    <tr style=\"text-align: right;\">\n",
       "      <th></th>\n",
       "      <th>id</th>\n",
       "      <th>name</th>\n",
       "      <th>host_id</th>\n",
       "      <th>host_name</th>\n",
       "      <th>neighbourhood_group</th>\n",
       "      <th>neighbourhood</th>\n",
       "      <th>latitude</th>\n",
       "      <th>longitude</th>\n",
       "      <th>room_type</th>\n",
       "      <th>price</th>\n",
       "      <th>...</th>\n",
       "      <th>last_review</th>\n",
       "      <th>reviews_per_month</th>\n",
       "      <th>calculated_host_listings_count</th>\n",
       "      <th>availability_365</th>\n",
       "      <th>number_of_reviews_ltm</th>\n",
       "      <th>license</th>\n",
       "      <th>rating</th>\n",
       "      <th>bedrooms</th>\n",
       "      <th>beds</th>\n",
       "      <th>baths</th>\n",
       "    </tr>\n",
       "  </thead>\n",
       "  <tbody>\n",
       "    <tr>\n",
       "      <th>6</th>\n",
       "      <td>4.527754e+07</td>\n",
       "      <td>Rental unit in New York · ★4.67 · 2 bedrooms ·...</td>\n",
       "      <td>51501835</td>\n",
       "      <td>Jeniffer</td>\n",
       "      <td>Manhattan</td>\n",
       "      <td>Hell's Kitchen</td>\n",
       "      <td>40.766610</td>\n",
       "      <td>-73.988100</td>\n",
       "      <td>Entire home/apt</td>\n",
       "      <td>144.0</td>\n",
       "      <td>...</td>\n",
       "      <td>01/05/23</td>\n",
       "      <td>0.24</td>\n",
       "      <td>139.0</td>\n",
       "      <td>364.0</td>\n",
       "      <td>2.0</td>\n",
       "      <td>No License</td>\n",
       "      <td>4.67</td>\n",
       "      <td>2</td>\n",
       "      <td>1</td>\n",
       "      <td>1</td>\n",
       "    </tr>\n",
       "    <tr>\n",
       "      <th>7</th>\n",
       "      <td>9.710000e+17</td>\n",
       "      <td>Rental unit in New York · ★4.17 · 1 bedroom · ...</td>\n",
       "      <td>528871354</td>\n",
       "      <td>Joshua</td>\n",
       "      <td>Manhattan</td>\n",
       "      <td>Chelsea</td>\n",
       "      <td>40.750764</td>\n",
       "      <td>-73.994605</td>\n",
       "      <td>Entire home/apt</td>\n",
       "      <td>187.0</td>\n",
       "      <td>...</td>\n",
       "      <td>18/12/23</td>\n",
       "      <td>1.67</td>\n",
       "      <td>1.0</td>\n",
       "      <td>343.0</td>\n",
       "      <td>6.0</td>\n",
       "      <td>Exempt</td>\n",
       "      <td>4.17</td>\n",
       "      <td>1</td>\n",
       "      <td>2</td>\n",
       "      <td>1</td>\n",
       "    </tr>\n",
       "    <tr>\n",
       "      <th>8</th>\n",
       "      <td>3.857863e+06</td>\n",
       "      <td>Rental unit in New York · ★4.64 · 1 bedroom · ...</td>\n",
       "      <td>19902271</td>\n",
       "      <td>John And Catherine</td>\n",
       "      <td>Manhattan</td>\n",
       "      <td>Washington Heights</td>\n",
       "      <td>40.835600</td>\n",
       "      <td>-73.942500</td>\n",
       "      <td>Private room</td>\n",
       "      <td>120.0</td>\n",
       "      <td>...</td>\n",
       "      <td>17/09/23</td>\n",
       "      <td>1.38</td>\n",
       "      <td>2.0</td>\n",
       "      <td>363.0</td>\n",
       "      <td>12.0</td>\n",
       "      <td>No License</td>\n",
       "      <td>4.64</td>\n",
       "      <td>1</td>\n",
       "      <td>1</td>\n",
       "      <td>1</td>\n",
       "    </tr>\n",
       "    <tr>\n",
       "      <th>9</th>\n",
       "      <td>4.089661e+07</td>\n",
       "      <td>Condo in New York · ★4.91 · Studio · 1 bed · 1...</td>\n",
       "      <td>61391963</td>\n",
       "      <td>Stay With Vibe</td>\n",
       "      <td>Manhattan</td>\n",
       "      <td>Murray Hill</td>\n",
       "      <td>40.751120</td>\n",
       "      <td>-73.978600</td>\n",
       "      <td>Entire home/apt</td>\n",
       "      <td>85.0</td>\n",
       "      <td>...</td>\n",
       "      <td>03/12/23</td>\n",
       "      <td>0.24</td>\n",
       "      <td>133.0</td>\n",
       "      <td>335.0</td>\n",
       "      <td>3.0</td>\n",
       "      <td>No License</td>\n",
       "      <td>4.91</td>\n",
       "      <td>Studio</td>\n",
       "      <td>1</td>\n",
       "      <td>1</td>\n",
       "    </tr>\n",
       "    <tr>\n",
       "      <th>10</th>\n",
       "      <td>4.958498e+07</td>\n",
       "      <td>Rental unit in New York · ★5.0 · 1 bedroom · 1...</td>\n",
       "      <td>51501835</td>\n",
       "      <td>Jeniffer</td>\n",
       "      <td>Manhattan</td>\n",
       "      <td>Hell's Kitchen</td>\n",
       "      <td>40.759950</td>\n",
       "      <td>-73.992960</td>\n",
       "      <td>Entire home/apt</td>\n",
       "      <td>115.0</td>\n",
       "      <td>...</td>\n",
       "      <td>29/07/23</td>\n",
       "      <td>0.16</td>\n",
       "      <td>139.0</td>\n",
       "      <td>276.0</td>\n",
       "      <td>2.0</td>\n",
       "      <td>No License</td>\n",
       "      <td>5</td>\n",
       "      <td>1</td>\n",
       "      <td>1</td>\n",
       "      <td>1</td>\n",
       "    </tr>\n",
       "    <tr>\n",
       "      <th>20736</th>\n",
       "      <td>7.990000e+17</td>\n",
       "      <td>Rental unit in New York · 2 bedrooms · 2 beds ...</td>\n",
       "      <td>224733902</td>\n",
       "      <td>CozySuites Copake</td>\n",
       "      <td>Manhattan</td>\n",
       "      <td>Upper East Side</td>\n",
       "      <td>40.768970</td>\n",
       "      <td>-73.957592</td>\n",
       "      <td>Entire home/apt</td>\n",
       "      <td>153.0</td>\n",
       "      <td>...</td>\n",
       "      <td>15/09/23</td>\n",
       "      <td>0.41</td>\n",
       "      <td>8.0</td>\n",
       "      <td>308.0</td>\n",
       "      <td>2.0</td>\n",
       "      <td>No License</td>\n",
       "      <td>No rating</td>\n",
       "      <td>2</td>\n",
       "      <td>2</td>\n",
       "      <td>2</td>\n",
       "    </tr>\n",
       "    <tr>\n",
       "      <th>20737</th>\n",
       "      <td>5.930000e+17</td>\n",
       "      <td>Rental unit in New York · ★4.79 · 2 bedrooms ·...</td>\n",
       "      <td>23219783</td>\n",
       "      <td>Rob</td>\n",
       "      <td>Manhattan</td>\n",
       "      <td>West Village</td>\n",
       "      <td>40.730220</td>\n",
       "      <td>-74.002910</td>\n",
       "      <td>Entire home/apt</td>\n",
       "      <td>175.0</td>\n",
       "      <td>...</td>\n",
       "      <td>22/11/23</td>\n",
       "      <td>2.03</td>\n",
       "      <td>4.0</td>\n",
       "      <td>129.0</td>\n",
       "      <td>25.0</td>\n",
       "      <td>No License</td>\n",
       "      <td>4.79</td>\n",
       "      <td>2</td>\n",
       "      <td>2</td>\n",
       "      <td>1</td>\n",
       "    </tr>\n",
       "    <tr>\n",
       "      <th>20738</th>\n",
       "      <td>9.230000e+17</td>\n",
       "      <td>Loft in New York · ★4.33 · 1 bedroom · 2 beds ...</td>\n",
       "      <td>520265731</td>\n",
       "      <td>Rodrigo</td>\n",
       "      <td>Manhattan</td>\n",
       "      <td>Greenwich Village</td>\n",
       "      <td>40.728390</td>\n",
       "      <td>-73.999540</td>\n",
       "      <td>Entire home/apt</td>\n",
       "      <td>156.0</td>\n",
       "      <td>...</td>\n",
       "      <td>02/01/24</td>\n",
       "      <td>2.60</td>\n",
       "      <td>1.0</td>\n",
       "      <td>356.0</td>\n",
       "      <td>9.0</td>\n",
       "      <td>Exempt</td>\n",
       "      <td>4.33</td>\n",
       "      <td>1</td>\n",
       "      <td>2</td>\n",
       "      <td>1</td>\n",
       "    </tr>\n",
       "    <tr>\n",
       "      <th>20739</th>\n",
       "      <td>1.336161e+07</td>\n",
       "      <td>Rental unit in New York · ★4.89 · 2 bedrooms ·...</td>\n",
       "      <td>8961407</td>\n",
       "      <td>Jamie</td>\n",
       "      <td>Manhattan</td>\n",
       "      <td>Harlem</td>\n",
       "      <td>40.805700</td>\n",
       "      <td>-73.946250</td>\n",
       "      <td>Entire home/apt</td>\n",
       "      <td>397.0</td>\n",
       "      <td>...</td>\n",
       "      <td>08/09/23</td>\n",
       "      <td>1.08</td>\n",
       "      <td>3.0</td>\n",
       "      <td>274.0</td>\n",
       "      <td>3.0</td>\n",
       "      <td>No License</td>\n",
       "      <td>4.89</td>\n",
       "      <td>2</td>\n",
       "      <td>2</td>\n",
       "      <td>1</td>\n",
       "    </tr>\n",
       "    <tr>\n",
       "      <th>20740</th>\n",
       "      <td>5.119566e+07</td>\n",
       "      <td>Rental unit in New York · Studio · 1 bed · 1 bath</td>\n",
       "      <td>51501835</td>\n",
       "      <td>Jeniffer</td>\n",
       "      <td>Manhattan</td>\n",
       "      <td>Chinatown</td>\n",
       "      <td>40.718360</td>\n",
       "      <td>-73.995850</td>\n",
       "      <td>Entire home/apt</td>\n",
       "      <td>100.0</td>\n",
       "      <td>...</td>\n",
       "      <td>25/05/23</td>\n",
       "      <td>0.08</td>\n",
       "      <td>139.0</td>\n",
       "      <td>306.0</td>\n",
       "      <td>1.0</td>\n",
       "      <td>No License</td>\n",
       "      <td>No rating</td>\n",
       "      <td>Studio</td>\n",
       "      <td>1</td>\n",
       "      <td>1</td>\n",
       "    </tr>\n",
       "    <tr>\n",
       "      <th>20741</th>\n",
       "      <td>2.523473e+07</td>\n",
       "      <td>Rental unit in New York · ★4.41 · 1 bedroom · ...</td>\n",
       "      <td>1497427</td>\n",
       "      <td>Mara</td>\n",
       "      <td>Manhattan</td>\n",
       "      <td>Upper East Side</td>\n",
       "      <td>40.774030</td>\n",
       "      <td>-73.950580</td>\n",
       "      <td>Entire home/apt</td>\n",
       "      <td>120.0</td>\n",
       "      <td>...</td>\n",
       "      <td>31/03/23</td>\n",
       "      <td>0.26</td>\n",
       "      <td>2.0</td>\n",
       "      <td>364.0</td>\n",
       "      <td>1.0</td>\n",
       "      <td>No License</td>\n",
       "      <td>4.41</td>\n",
       "      <td>1</td>\n",
       "      <td>2</td>\n",
       "      <td>1</td>\n",
       "    </tr>\n",
       "    <tr>\n",
       "      <th>20742</th>\n",
       "      <td>3.339399e+06</td>\n",
       "      <td>Rental unit in New York · ★4.73 · 1 bedroom · ...</td>\n",
       "      <td>2119276</td>\n",
       "      <td>Urban Furnished</td>\n",
       "      <td>Manhattan</td>\n",
       "      <td>West Village</td>\n",
       "      <td>40.732030</td>\n",
       "      <td>-74.006760</td>\n",
       "      <td>Entire home/apt</td>\n",
       "      <td>143.0</td>\n",
       "      <td>...</td>\n",
       "      <td>09/05/23</td>\n",
       "      <td>0.20</td>\n",
       "      <td>54.0</td>\n",
       "      <td>285.0</td>\n",
       "      <td>2.0</td>\n",
       "      <td>No License</td>\n",
       "      <td>4.73</td>\n",
       "      <td>1</td>\n",
       "      <td>1</td>\n",
       "      <td>1</td>\n",
       "    </tr>\n",
       "  </tbody>\n",
       "</table>\n",
       "<p>12 rows × 22 columns</p>\n",
       "</div>"
      ],
      "text/plain": [
       "                 id                                               name  \\\n",
       "6      4.527754e+07  Rental unit in New York · ★4.67 · 2 bedrooms ·...   \n",
       "7      9.710000e+17  Rental unit in New York · ★4.17 · 1 bedroom · ...   \n",
       "8      3.857863e+06  Rental unit in New York · ★4.64 · 1 bedroom · ...   \n",
       "9      4.089661e+07  Condo in New York · ★4.91 · Studio · 1 bed · 1...   \n",
       "10     4.958498e+07  Rental unit in New York · ★5.0 · 1 bedroom · 1...   \n",
       "20736  7.990000e+17  Rental unit in New York · 2 bedrooms · 2 beds ...   \n",
       "20737  5.930000e+17  Rental unit in New York · ★4.79 · 2 bedrooms ·...   \n",
       "20738  9.230000e+17  Loft in New York · ★4.33 · 1 bedroom · 2 beds ...   \n",
       "20739  1.336161e+07  Rental unit in New York · ★4.89 · 2 bedrooms ·...   \n",
       "20740  5.119566e+07  Rental unit in New York · Studio · 1 bed · 1 bath   \n",
       "20741  2.523473e+07  Rental unit in New York · ★4.41 · 1 bedroom · ...   \n",
       "20742  3.339399e+06  Rental unit in New York · ★4.73 · 1 bedroom · ...   \n",
       "\n",
       "         host_id           host_name neighbourhood_group       neighbourhood  \\\n",
       "6       51501835            Jeniffer           Manhattan      Hell's Kitchen   \n",
       "7      528871354              Joshua           Manhattan             Chelsea   \n",
       "8       19902271  John And Catherine           Manhattan  Washington Heights   \n",
       "9       61391963      Stay With Vibe           Manhattan         Murray Hill   \n",
       "10      51501835            Jeniffer           Manhattan      Hell's Kitchen   \n",
       "20736  224733902   CozySuites Copake           Manhattan     Upper East Side   \n",
       "20737   23219783                 Rob           Manhattan        West Village   \n",
       "20738  520265731             Rodrigo           Manhattan   Greenwich Village   \n",
       "20739    8961407               Jamie           Manhattan              Harlem   \n",
       "20740   51501835            Jeniffer           Manhattan           Chinatown   \n",
       "20741    1497427                Mara           Manhattan     Upper East Side   \n",
       "20742    2119276     Urban Furnished           Manhattan        West Village   \n",
       "\n",
       "        latitude  longitude        room_type  price  ...  last_review  \\\n",
       "6      40.766610 -73.988100  Entire home/apt  144.0  ...     01/05/23   \n",
       "7      40.750764 -73.994605  Entire home/apt  187.0  ...     18/12/23   \n",
       "8      40.835600 -73.942500     Private room  120.0  ...     17/09/23   \n",
       "9      40.751120 -73.978600  Entire home/apt   85.0  ...     03/12/23   \n",
       "10     40.759950 -73.992960  Entire home/apt  115.0  ...     29/07/23   \n",
       "20736  40.768970 -73.957592  Entire home/apt  153.0  ...     15/09/23   \n",
       "20737  40.730220 -74.002910  Entire home/apt  175.0  ...     22/11/23   \n",
       "20738  40.728390 -73.999540  Entire home/apt  156.0  ...     02/01/24   \n",
       "20739  40.805700 -73.946250  Entire home/apt  397.0  ...     08/09/23   \n",
       "20740  40.718360 -73.995850  Entire home/apt  100.0  ...     25/05/23   \n",
       "20741  40.774030 -73.950580  Entire home/apt  120.0  ...     31/03/23   \n",
       "20742  40.732030 -74.006760  Entire home/apt  143.0  ...     09/05/23   \n",
       "\n",
       "       reviews_per_month calculated_host_listings_count  availability_365  \\\n",
       "6                   0.24                          139.0             364.0   \n",
       "7                   1.67                            1.0             343.0   \n",
       "8                   1.38                            2.0             363.0   \n",
       "9                   0.24                          133.0             335.0   \n",
       "10                  0.16                          139.0             276.0   \n",
       "20736               0.41                            8.0             308.0   \n",
       "20737               2.03                            4.0             129.0   \n",
       "20738               2.60                            1.0             356.0   \n",
       "20739               1.08                            3.0             274.0   \n",
       "20740               0.08                          139.0             306.0   \n",
       "20741               0.26                            2.0             364.0   \n",
       "20742               0.20                           54.0             285.0   \n",
       "\n",
       "       number_of_reviews_ltm     license     rating bedrooms beds baths  \n",
       "6                        2.0  No License       4.67        2    1     1  \n",
       "7                        6.0      Exempt       4.17        1    2     1  \n",
       "8                       12.0  No License       4.64        1    1     1  \n",
       "9                        3.0  No License       4.91   Studio    1     1  \n",
       "10                       2.0  No License          5        1    1     1  \n",
       "20736                    2.0  No License  No rating        2    2     2  \n",
       "20737                   25.0  No License       4.79        2    2     1  \n",
       "20738                    9.0      Exempt       4.33        1    2     1  \n",
       "20739                    3.0  No License       4.89        2    2     1  \n",
       "20740                    1.0  No License  No rating   Studio    1     1  \n",
       "20741                    1.0  No License       4.41        1    2     1  \n",
       "20742                    2.0  No License       4.73        1    1     1  \n",
       "\n",
       "[12 rows x 22 columns]"
      ]
     },
     "execution_count": 14,
     "metadata": {},
     "output_type": "execute_result"
    }
   ],
   "source": [
    "#print the duplicated records\n",
    "data[data.duplicated()]"
   ]
  },
  {
   "cell_type": "code",
   "execution_count": 10,
   "id": "37cd4f6e",
   "metadata": {},
   "outputs": [
    {
     "data": {
      "text/plain": [
       "np.int64(0)"
      ]
     },
     "execution_count": 10,
     "metadata": {},
     "output_type": "execute_result"
    }
   ],
   "source": [
    "#drop all  the duplicate records(rows)\n",
    "data.drop_duplicates(inplace=True)\n",
    "\n",
    "# check if any duplicate still exixts\n",
    "data.duplicated().sum()"
   ]
  },
  {
   "cell_type": "code",
   "execution_count": 11,
   "id": "b75c812f",
   "metadata": {},
   "outputs": [
    {
     "data": {
      "text/plain": [
       "id                                float64\n",
       "name                               object\n",
       "host_id                             int64\n",
       "host_name                          object\n",
       "neighbourhood_group                object\n",
       "neighbourhood                      object\n",
       "latitude                          float64\n",
       "longitude                         float64\n",
       "room_type                          object\n",
       "price                             float64\n",
       "minimum_nights                    float64\n",
       "number_of_reviews                 float64\n",
       "last_review                        object\n",
       "reviews_per_month                 float64\n",
       "calculated_host_listings_count    float64\n",
       "availability_365                  float64\n",
       "number_of_reviews_ltm             float64\n",
       "license                            object\n",
       "rating                             object\n",
       "bedrooms                           object\n",
       "beds                                int64\n",
       "baths                              object\n",
       "dtype: object"
      ]
     },
     "execution_count": 11,
     "metadata": {},
     "output_type": "execute_result"
    }
   ],
   "source": [
    "#checking the datatype of each column\n",
    "data.dtypes"
   ]
  },
  {
   "cell_type": "code",
   "execution_count": 21,
   "id": "3a1c6811",
   "metadata": {},
   "outputs": [],
   "source": [
    "#changing the datatype of the column id\n",
    "data['id']=data['id'].astype('object')"
   ]
  },
  {
   "cell_type": "code",
   "execution_count": 22,
   "id": "43284cba",
   "metadata": {},
   "outputs": [
    {
     "data": {
      "text/plain": [
       "id                                 object\n",
       "name                               object\n",
       "host_id                             int64\n",
       "host_name                          object\n",
       "neighbourhood_group                object\n",
       "neighbourhood                      object\n",
       "latitude                          float64\n",
       "longitude                         float64\n",
       "room_type                          object\n",
       "price                             float64\n",
       "minimum_nights                    float64\n",
       "number_of_reviews                 float64\n",
       "last_review                        object\n",
       "reviews_per_month                 float64\n",
       "calculated_host_listings_count    float64\n",
       "availability_365                  float64\n",
       "number_of_reviews_ltm             float64\n",
       "license                            object\n",
       "rating                             object\n",
       "bedrooms                           object\n",
       "beds                                int64\n",
       "baths                              object\n",
       "dtype: object"
      ]
     },
     "execution_count": 22,
     "metadata": {},
     "output_type": "execute_result"
    }
   ],
   "source": [
    "#checking the updated datatype\n",
    "data.dtypes"
   ]
  },
  {
   "cell_type": "code",
   "execution_count": 23,
   "id": "3b23478c",
   "metadata": {},
   "outputs": [
    {
     "data": {
      "text/plain": [
       "id                                 object\n",
       "name                               object\n",
       "host_id                            object\n",
       "host_name                          object\n",
       "neighbourhood_group                object\n",
       "neighbourhood                      object\n",
       "latitude                          float64\n",
       "longitude                         float64\n",
       "room_type                          object\n",
       "price                             float64\n",
       "minimum_nights                    float64\n",
       "number_of_reviews                 float64\n",
       "last_review                        object\n",
       "reviews_per_month                 float64\n",
       "calculated_host_listings_count    float64\n",
       "availability_365                  float64\n",
       "number_of_reviews_ltm             float64\n",
       "license                            object\n",
       "rating                             object\n",
       "bedrooms                           object\n",
       "beds                                int64\n",
       "baths                              object\n",
       "dtype: object"
      ]
     },
     "execution_count": 23,
     "metadata": {},
     "output_type": "execute_result"
    }
   ],
   "source": [
    "#changing the datatype of hostid\n",
    "data['host_id'] = data['host_id'].astype('object')\n",
    "data.dtypes"
   ]
  },
  {
   "cell_type": "markdown",
   "id": "d1c2fb7b",
   "metadata": {},
   "source": [
    "#### **EDA**\n",
    "### **Task 5 : Data Analysis**\n",
    " ##### **Univariate Analysis**\n"
   ]
  },
  {
   "cell_type": "code",
   "execution_count": 12,
   "id": "51eed2eb",
   "metadata": {},
   "outputs": [
    {
     "data": {
      "text/plain": [
       "0         55.0\n",
       "1        144.0\n",
       "2        187.0\n",
       "3        120.0\n",
       "4         85.0\n",
       "         ...  \n",
       "20765     45.0\n",
       "20766    105.0\n",
       "20767    299.0\n",
       "20768    115.0\n",
       "20769    102.0\n",
       "Name: price, Length: 20758, dtype: float64"
      ]
     },
     "execution_count": 12,
     "metadata": {},
     "output_type": "execute_result"
    }
   ],
   "source": [
    "##price distribution\n",
    "data['price']"
   ]
  },
  {
   "cell_type": "code",
   "execution_count": 26,
   "id": "06d1271b",
   "metadata": {},
   "outputs": [
    {
     "data": {
      "text/plain": [
       "<Axes: xlabel='price', ylabel='Count'>"
      ]
     },
     "execution_count": 26,
     "metadata": {},
     "output_type": "execute_result"
    },
    {
     "data": {
      "image/png": "[encoded data removed]",
      "text/plain": [
       "<Figure size 640x480 with 1 Axes>"
      ]
     },
     "metadata": {},
     "output_type": "display_data"
    }
   ],
   "source": [
    "#creating a histogram for the price data distribution\n",
    "sns.histplot(data=data,x='price')"
   ]
  },
  {
   "cell_type": "code",
   "execution_count": 13,
   "id": "6ffcb5d7",
   "metadata": {},
   "outputs": [
    {
     "data": {
      "text/plain": [
       "<Axes: xlabel='price'>"
      ]
     },
     "execution_count": 13,
     "metadata": {},
     "output_type": "execute_result"
    },
    {
     "data": {
      "image/png": "[encoded data removed]",
      "text/plain": [
       "<Figure size 640x480 with 1 Axes>"
      ]
     },
     "metadata": {},
     "output_type": "display_data"
    }
   ],
   "source": [
    "#identifying the outliers in price\n",
    "sns.boxplot(data=data , x='price')\n"
   ]
  },
  {
   "cell_type": "code",
   "execution_count": 15,
   "id": "a7aa26ab",
   "metadata": {},
   "outputs": [
    {
     "data": {
      "text/plain": [
       "<Axes: xlabel='price'>"
      ]
     },
     "execution_count": 15,
     "metadata": {},
     "output_type": "execute_result"
    },
    {
     "data": {
      "image/png": "[encoded data removed]",
      "text/plain": [
       "<Figure size 640x480 with 1 Axes>"
      ]
     },
     "metadata": {},
     "output_type": "display_data"
    }
   ],
   "source": [
    "#removing the outliers\n",
    "df=data[data['price']<1500]\n",
    "sns.boxplot(data=df , x='price')"
   ]
  },
  {
   "cell_type": "code",
   "execution_count": 16,
   "id": "256572e7",
   "metadata": {},
   "outputs": [
    {
     "data": {
      "text/plain": [
       "<Axes: xlabel='price', ylabel='Count'>"
      ]
     },
     "execution_count": 16,
     "metadata": {},
     "output_type": "execute_result"
    },
    {
     "data": {
      "image/png": "[encoded data removed]",
      "text/plain": [
       "<Figure size 640x480 with 1 Axes>"
      ]
     },
     "metadata": {},
     "output_type": "display_data"
    }
   ],
   "source": [
    "#now get the histogram \n",
    "sns.histplot(data=df, x='price')"
   ]
  },
  {
   "cell_type": "code",
   "execution_count": 24,
   "id": "9ce8d79b",
   "metadata": {},
   "outputs": [
    {
     "data": {
      "text/plain": [
       "Text(0, 0.5, 'Frequency')"
      ]
     },
     "execution_count": 24,
     "metadata": {},
     "output_type": "execute_result"
    },
    {
     "data": {
      "image/png": "[encoded data removed]",
      "text/plain": [
       "<Figure size 800x500 with 1 Axes>"
      ]
     },
     "metadata": {},
     "output_type": "display_data"
    }
   ],
   "source": [
    "#Price distribution\n",
    "plt.figure(figsize=(8,5))\n",
    "sns.histplot(data=df , x='price',bins=100)\n",
    "plt.ylabel(\"Frequency\")"
   ]
  },
  {
   "cell_type": "code",
   "execution_count": 26,
   "id": "31721785",
   "metadata": {},
   "outputs": [
    {
     "data": {
      "image/png": "[encoded data removed]",
      "text/plain": [
       "<Figure size 800x500 with 1 Axes>"
      ]
     },
     "metadata": {},
     "output_type": "display_data"
    }
   ],
   "source": [
    "#Final code for the price distribution\n",
    "plt.figure(figsize=(8,5))\n",
    "sns.histplot(data=df , x='price', bins=100)\n",
    "plt.title('Price Distribution')\n",
    "plt.ylabel(\"Frequency\")\n",
    "plt.show()"
   ]
  },
  {
   "cell_type": "code",
   "execution_count": 27,
   "id": "01ed13ae",
   "metadata": {},
   "outputs": [
    {
     "data": {
      "image/png": "[encoded data removed]",
      "text/plain": [
       "<Figure size 800x500 with 1 Axes>"
      ]
     },
     "metadata": {},
     "output_type": "display_data"
    }
   ],
   "source": [
    "#availability_365\n",
    "plt.figure(figsize=(8,5))\n",
    "sns.histplot(data=df , x='availability_365')\n",
    "plt.title(\"availability_365 Distribution\")\n",
    "plt.ylabel(\"Frequency\")\n",
    "plt.show()"
   ]
  },
  {
   "cell_type": "code",
   "execution_count": 28,
   "id": "4c403c37",
   "metadata": {},
   "outputs": [
    {
     "data": {
      "text/plain": [
       "neighbourhood_group\n",
       "Bronx            107.990506\n",
       "Brooklyn         155.138317\n",
       "Manhattan        204.146014\n",
       "Queens           121.681939\n",
       "Staten Island    118.780069\n",
       "Name: price, dtype: float64"
      ]
     },
     "execution_count": 28,
     "metadata": {},
     "output_type": "execute_result"
    }
   ],
   "source": [
    "#GROUP BY PANDAS\n",
    "#find the avg price of each neighbourhood_group\n",
    "df.groupby(by='neighbourhood_group')['price'].mean()"
   ]
  },
  {
   "cell_type": "code",
   "execution_count": null,
   "id": "6aa06c62",
   "metadata": {},
   "outputs": [],
   "source": []
  }
 ],
 "metadata": {
  "kernelspec": {
   "display_name": "Python 3",
   "language": "python",
   "name": "python3"
  },
  "language_info": {
   "codemirror_mode": {
    "name": "ipython",
    "version": 3
   },
   "file_extension": ".py",
   "mimetype": "text/x-python",
   "name": "python",
   "nbconvert_exporter": "python",
   "pygments_lexer": "ipython3",
   "version": "3.13.3"
  }
 },
 "nbformat": 4,
 "nbformat_minor": 5
}
